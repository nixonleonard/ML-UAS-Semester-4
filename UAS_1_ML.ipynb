{
  "nbformat": 4,
  "nbformat_minor": 0,
  "metadata": {
    "colab": {
      "provenance": [],
      "collapsed_sections": [],
      "authorship_tag": "ABX9TyM0jClDnSCVEsRINHK5kJAf"
    },
    "kernelspec": {
      "name": "python3",
      "display_name": "Python 3"
    },
    "language_info": {
      "name": "python"
    }
  },
  "cells": [
    {
      "cell_type": "markdown",
      "source": [
        "#Importing Library"
      ],
      "metadata": {
        "id": "O0dssSsTHF4O"
      }
    },
    {
      "cell_type": "code",
      "source": [
        "import numpy as np\n",
        "import pandas as pd\n",
        "import seaborn as sns\n",
        "import matplotlib.pyplot as plt\n",
        "from scipy.stats import mode\n",
        "from sklearn.model_selection import train_test_split"
      ],
      "metadata": {
        "id": "qQOnJBbLHALZ"
      },
      "execution_count": null,
      "outputs": []
    },
    {
      "cell_type": "markdown",
      "source": [
        "#Import Dataset"
      ],
      "metadata": {
        "id": "0KWfUqx2iHqW"
      }
    },
    {
      "cell_type": "code",
      "execution_count": null,
      "metadata": {
        "id": "y3_TATe6GyV_",
        "colab": {
          "base_uri": "https://localhost:8080/",
          "height": 206
        },
        "outputId": "7bfe4dba-f955-4e1a-8e47-e607b09c1b75"
      },
      "outputs": [
        {
          "output_type": "execute_result",
          "data": {
            "text/plain": [
              "   X1   X2    X3  X4   X5    X6     X7  X8  X9\n",
              "0   3  126  88.0  41  235  39.3  0.704  27   0\n",
              "1   8   99  84.0   0    0  35.4  0.388  50   0\n",
              "2   7  196  90.0   0    0  39.8  0.451  41   1\n",
              "3   9  119  80.0  35    0  29.0  0.263  29   1\n",
              "4  11  143  94.0  33  146  36.6  0.254  51   1"
            ],
            "text/html": [
              "\n",
              "  <div id=\"df-1377249d-4136-4439-bfcc-a18ab2f370ab\">\n",
              "    <div class=\"colab-df-container\">\n",
              "      <div>\n",
              "<style scoped>\n",
              "    .dataframe tbody tr th:only-of-type {\n",
              "        vertical-align: middle;\n",
              "    }\n",
              "\n",
              "    .dataframe tbody tr th {\n",
              "        vertical-align: top;\n",
              "    }\n",
              "\n",
              "    .dataframe thead th {\n",
              "        text-align: right;\n",
              "    }\n",
              "</style>\n",
              "<table border=\"1\" class=\"dataframe\">\n",
              "  <thead>\n",
              "    <tr style=\"text-align: right;\">\n",
              "      <th></th>\n",
              "      <th>X1</th>\n",
              "      <th>X2</th>\n",
              "      <th>X3</th>\n",
              "      <th>X4</th>\n",
              "      <th>X5</th>\n",
              "      <th>X6</th>\n",
              "      <th>X7</th>\n",
              "      <th>X8</th>\n",
              "      <th>X9</th>\n",
              "    </tr>\n",
              "  </thead>\n",
              "  <tbody>\n",
              "    <tr>\n",
              "      <th>0</th>\n",
              "      <td>3</td>\n",
              "      <td>126</td>\n",
              "      <td>88.0</td>\n",
              "      <td>41</td>\n",
              "      <td>235</td>\n",
              "      <td>39.3</td>\n",
              "      <td>0.704</td>\n",
              "      <td>27</td>\n",
              "      <td>0</td>\n",
              "    </tr>\n",
              "    <tr>\n",
              "      <th>1</th>\n",
              "      <td>8</td>\n",
              "      <td>99</td>\n",
              "      <td>84.0</td>\n",
              "      <td>0</td>\n",
              "      <td>0</td>\n",
              "      <td>35.4</td>\n",
              "      <td>0.388</td>\n",
              "      <td>50</td>\n",
              "      <td>0</td>\n",
              "    </tr>\n",
              "    <tr>\n",
              "      <th>2</th>\n",
              "      <td>7</td>\n",
              "      <td>196</td>\n",
              "      <td>90.0</td>\n",
              "      <td>0</td>\n",
              "      <td>0</td>\n",
              "      <td>39.8</td>\n",
              "      <td>0.451</td>\n",
              "      <td>41</td>\n",
              "      <td>1</td>\n",
              "    </tr>\n",
              "    <tr>\n",
              "      <th>3</th>\n",
              "      <td>9</td>\n",
              "      <td>119</td>\n",
              "      <td>80.0</td>\n",
              "      <td>35</td>\n",
              "      <td>0</td>\n",
              "      <td>29.0</td>\n",
              "      <td>0.263</td>\n",
              "      <td>29</td>\n",
              "      <td>1</td>\n",
              "    </tr>\n",
              "    <tr>\n",
              "      <th>4</th>\n",
              "      <td>11</td>\n",
              "      <td>143</td>\n",
              "      <td>94.0</td>\n",
              "      <td>33</td>\n",
              "      <td>146</td>\n",
              "      <td>36.6</td>\n",
              "      <td>0.254</td>\n",
              "      <td>51</td>\n",
              "      <td>1</td>\n",
              "    </tr>\n",
              "  </tbody>\n",
              "</table>\n",
              "</div>\n",
              "      <button class=\"colab-df-convert\" onclick=\"convertToInteractive('df-1377249d-4136-4439-bfcc-a18ab2f370ab')\"\n",
              "              title=\"Convert this dataframe to an interactive table.\"\n",
              "              style=\"display:none;\">\n",
              "        \n",
              "  <svg xmlns=\"http://www.w3.org/2000/svg\" height=\"24px\"viewBox=\"0 0 24 24\"\n",
              "       width=\"24px\">\n",
              "    <path d=\"M0 0h24v24H0V0z\" fill=\"none\"/>\n",
              "    <path d=\"M18.56 5.44l.94 2.06.94-2.06 2.06-.94-2.06-.94-.94-2.06-.94 2.06-2.06.94zm-11 1L8.5 8.5l.94-2.06 2.06-.94-2.06-.94L8.5 2.5l-.94 2.06-2.06.94zm10 10l.94 2.06.94-2.06 2.06-.94-2.06-.94-.94-2.06-.94 2.06-2.06.94z\"/><path d=\"M17.41 7.96l-1.37-1.37c-.4-.4-.92-.59-1.43-.59-.52 0-1.04.2-1.43.59L10.3 9.45l-7.72 7.72c-.78.78-.78 2.05 0 2.83L4 21.41c.39.39.9.59 1.41.59.51 0 1.02-.2 1.41-.59l7.78-7.78 2.81-2.81c.8-.78.8-2.07 0-2.86zM5.41 20L4 18.59l7.72-7.72 1.47 1.35L5.41 20z\"/>\n",
              "  </svg>\n",
              "      </button>\n",
              "      \n",
              "  <style>\n",
              "    .colab-df-container {\n",
              "      display:flex;\n",
              "      flex-wrap:wrap;\n",
              "      gap: 12px;\n",
              "    }\n",
              "\n",
              "    .colab-df-convert {\n",
              "      background-color: #E8F0FE;\n",
              "      border: none;\n",
              "      border-radius: 50%;\n",
              "      cursor: pointer;\n",
              "      display: none;\n",
              "      fill: #1967D2;\n",
              "      height: 32px;\n",
              "      padding: 0 0 0 0;\n",
              "      width: 32px;\n",
              "    }\n",
              "\n",
              "    .colab-df-convert:hover {\n",
              "      background-color: #E2EBFA;\n",
              "      box-shadow: 0px 1px 2px rgba(60, 64, 67, 0.3), 0px 1px 3px 1px rgba(60, 64, 67, 0.15);\n",
              "      fill: #174EA6;\n",
              "    }\n",
              "\n",
              "    [theme=dark] .colab-df-convert {\n",
              "      background-color: #3B4455;\n",
              "      fill: #D2E3FC;\n",
              "    }\n",
              "\n",
              "    [theme=dark] .colab-df-convert:hover {\n",
              "      background-color: #434B5C;\n",
              "      box-shadow: 0px 1px 3px 1px rgba(0, 0, 0, 0.15);\n",
              "      filter: drop-shadow(0px 1px 2px rgba(0, 0, 0, 0.3));\n",
              "      fill: #FFFFFF;\n",
              "    }\n",
              "  </style>\n",
              "\n",
              "      <script>\n",
              "        const buttonEl =\n",
              "          document.querySelector('#df-1377249d-4136-4439-bfcc-a18ab2f370ab button.colab-df-convert');\n",
              "        buttonEl.style.display =\n",
              "          google.colab.kernel.accessAllowed ? 'block' : 'none';\n",
              "\n",
              "        async function convertToInteractive(key) {\n",
              "          const element = document.querySelector('#df-1377249d-4136-4439-bfcc-a18ab2f370ab');\n",
              "          const dataTable =\n",
              "            await google.colab.kernel.invokeFunction('convertToInteractive',\n",
              "                                                     [key], {});\n",
              "          if (!dataTable) return;\n",
              "\n",
              "          const docLinkHtml = 'Like what you see? Visit the ' +\n",
              "            '<a target=\"_blank\" href=https://colab.research.google.com/notebooks/data_table.ipynb>data table notebook</a>'\n",
              "            + ' to learn more about interactive tables.';\n",
              "          element.innerHTML = '';\n",
              "          dataTable['output_type'] = 'display_data';\n",
              "          await google.colab.output.renderOutput(dataTable, element);\n",
              "          const docLink = document.createElement('div');\n",
              "          docLink.innerHTML = docLinkHtml;\n",
              "          element.appendChild(docLink);\n",
              "        }\n",
              "      </script>\n",
              "    </div>\n",
              "  </div>\n",
              "  "
            ]
          },
          "metadata": {},
          "execution_count": 2
        }
      ],
      "source": [
        "data = pd.read_csv('knn_datasets.csv')\n",
        "data.head()"
      ]
    },
    {
      "cell_type": "markdown",
      "source": [
        "**Mengecek shape dari dataset nya**"
      ],
      "metadata": {
        "id": "NiD_XwXXiLYD"
      }
    },
    {
      "cell_type": "code",
      "source": [
        "data.shape"
      ],
      "metadata": {
        "colab": {
          "base_uri": "https://localhost:8080/"
        },
        "id": "aNbb-jYnLBzi",
        "outputId": "32ba1ada-2678-419c-8da4-f44a78492ab5"
      },
      "execution_count": null,
      "outputs": [
        {
          "output_type": "execute_result",
          "data": {
            "text/plain": [
              "(480, 9)"
            ]
          },
          "metadata": {},
          "execution_count": 3
        }
      ]
    },
    {
      "cell_type": "markdown",
      "source": [
        "#Pre Processing Data"
      ],
      "metadata": {
        "id": "bf_qBswOizBS"
      }
    },
    {
      "cell_type": "markdown",
      "source": [
        "**Mencari missing value**"
      ],
      "metadata": {
        "id": "mMsLp5XHiPwB"
      }
    },
    {
      "cell_type": "code",
      "source": [
        "data.isnull().sum()"
      ],
      "metadata": {
        "colab": {
          "base_uri": "https://localhost:8080/"
        },
        "id": "5nVko8oSJJ6O",
        "outputId": "97ffac8e-a4e3-48c3-c786-626921232631"
      },
      "execution_count": null,
      "outputs": [
        {
          "output_type": "execute_result",
          "data": {
            "text/plain": [
              "X1    0\n",
              "X2    0\n",
              "X3    1\n",
              "X4    0\n",
              "X5    0\n",
              "X6    0\n",
              "X7    0\n",
              "X8    0\n",
              "X9    0\n",
              "dtype: int64"
            ]
          },
          "metadata": {},
          "execution_count": 4
        }
      ]
    },
    {
      "cell_type": "markdown",
      "source": [
        "Dari data diatas, bisa kita lihat terdapat 1 missing value pada kolom X3, maka dari itu kita akan menghilangkan semua data pada line missing value tersebut, dibawah ini .."
      ],
      "metadata": {
        "id": "Fuf7yfM1KfmJ"
      }
    },
    {
      "cell_type": "code",
      "source": [
        "data = data.dropna(axis=0)"
      ],
      "metadata": {
        "id": "u2nn-ugXJJiy"
      },
      "execution_count": null,
      "outputs": []
    },
    {
      "cell_type": "markdown",
      "source": [
        "**Melihat korelasi tiap atribut dan pada atribut target**"
      ],
      "metadata": {
        "id": "UrpuR5EwigjU"
      }
    },
    {
      "cell_type": "code",
      "source": [
        "plt.figure(figsize=(10, 8))\n",
        "sns.heatmap(data.corr(), annot=True, linewidths=0.5,).set_title('Correlation Matrix')\n",
        "\n",
        "plt.show()"
      ],
      "metadata": {
        "colab": {
          "base_uri": "https://localhost:8080/",
          "height": 499
        },
        "id": "ETErwgX6LyAG",
        "outputId": "2b91da4f-b8b5-40da-9f32-a0a33f9a1d51"
      },
      "execution_count": null,
      "outputs": [
        {
          "output_type": "display_data",
          "data": {
            "text/plain": [
              "<Figure size 720x576 with 2 Axes>"
            ],
            "image/png": "[encoded data removed]"
          },
          "metadata": {
            "needs_background": "light"
          }
        }
      ]
    },
    {
      "cell_type": "markdown",
      "source": [
        "Dari tabel diatas, kita bisa lihat korelasi tiap atribut, serta korelasi tiap atribut dari X1 - X8 dengan atribut X9. Saya akan menggunakan 3 atribut saja dengan korelasi lebih dari 0.2 (korelasi terbesar dengan X9) agar dapat mempercempat komputasi, yaitu X1 X2 dan X6"
      ],
      "metadata": {
        "id": "VuNo4gMBMNJY"
      }
    },
    {
      "cell_type": "markdown",
      "source": [
        "#Training and Testing Data"
      ],
      "metadata": {
        "id": "TkT5K9Cni6tX"
      }
    },
    {
      "cell_type": "code",
      "source": [
        "X = np.array(data[['X1','X2','X6']])\n",
        "y = np.array(data['X9'])"
      ],
      "metadata": {
        "id": "vohloQEhLPqp"
      },
      "execution_count": null,
      "outputs": []
    },
    {
      "cell_type": "code",
      "source": [
        "X_train, X_test, y_train, y_test = train_test_split(X, y, test_size = 0.25, random_state = 42)"
      ],
      "metadata": {
        "id": "UvWQdURYMhLY"
      },
      "execution_count": null,
      "outputs": []
    },
    {
      "cell_type": "markdown",
      "source": [
        "#Model K-Nearest Neighbour with Euclidean Distance"
      ],
      "metadata": {
        "id": "-rhaEPyoi_wJ"
      }
    },
    {
      "cell_type": "markdown",
      "source": [
        "**Model**"
      ],
      "metadata": {
        "id": "7Wr-4rBtkAzx"
      }
    },
    {
      "cell_type": "code",
      "source": [
        "def euclidean(p1, p2):\n",
        "    return np.sqrt(np.sum((p1 - p2)**2))"
      ],
      "metadata": {
        "id": "Q7itIS3QNgMK"
      },
      "execution_count": null,
      "outputs": []
    },
    {
      "cell_type": "code",
      "source": [
        "def predict(X_train, X_test, y_train, k):\n",
        "    prediction = []\n",
        "    for x1 in X_test:\n",
        "        dist = []\n",
        "        for x2 in X_train:\n",
        "            dist.append(euclidean(x1, x2))\n",
        "        dist = np.array(dist)\n",
        "        k_best = np.argsort(dist)[:k]\n",
        "        labels = y_train[k_best]\n",
        "        prediction.append(mode(labels).mode[0])\n",
        "\n",
        "    return prediction"
      ],
      "metadata": {
        "id": "kl2urDFkOZ6S"
      },
      "execution_count": null,
      "outputs": []
    },
    {
      "cell_type": "markdown",
      "source": [
        "**Function Menghitung RMSE**"
      ],
      "metadata": {
        "id": "KyFK41uWkDnt"
      }
    },
    {
      "cell_type": "code",
      "source": [
        "def calculate_rmse(y_test, y_pred):\n",
        "\terror = 0.0\n",
        "\tfor i in range(len(y_test)):\n",
        "\t\tpredError = y_pred[i] - y_test[i]\n",
        "\t\terror += (predError ** 2)\n",
        "\tmeanError = error / float(len(y_test))\n",
        "\treturn np.sqrt(meanError)"
      ],
      "metadata": {
        "id": "Xuw_1cc_RJEx"
      },
      "execution_count": null,
      "outputs": []
    },
    {
      "cell_type": "markdown",
      "source": [
        "**Function Menghitung Accuracy**"
      ],
      "metadata": {
        "id": "bZKdKhSOkH5D"
      }
    },
    {
      "cell_type": "code",
      "source": [
        "def calculate_accuracy(y_test, y_pred):\n",
        "\tfacc = 0\n",
        "\tfor i in range(len(y_test)):\n",
        "\t\tif y_test[i] == y_pred[i]:\n",
        "\t\t\tfacc += 1\n",
        "\treturn facc / float(len(y_test)) * 100.0"
      ],
      "metadata": {
        "id": "cR5U4ErUYqJY"
      },
      "execution_count": null,
      "outputs": []
    },
    {
      "cell_type": "markdown",
      "source": [
        "**Membandingkan RMSE dengan K values dengan elbow method**"
      ],
      "metadata": {
        "id": "lqoGPVqVkMCu"
      }
    },
    {
      "cell_type": "code",
      "source": [
        "euclidean_acc = []\n",
        "\n",
        "for k in range(1,50):\n",
        "    y_pred = predict(X_train, X_test, y_train, k)\n",
        "    euclidean_acc.append(calculate_rmse(y_test, y_pred))\n",
        "\n",
        "fig, ax = plt.subplots(figsize=(9,6))\n",
        "ax.plot(range(1,50), euclidean_acc)\n",
        "plt.title('RMSE vs Nearest Neighbors (k)')\n",
        "ax.set_xlabel('Nearest Neighbors (k)')\n",
        "ax.set_ylabel('RMSE')"
      ],
      "metadata": {
        "colab": {
          "base_uri": "https://localhost:8080/",
          "height": 421
        },
        "id": "0v_Fih5rOb9A",
        "outputId": "91d07c30-d516-4e35-dffc-da66fa6f1454"
      },
      "execution_count": null,
      "outputs": [
        {
          "output_type": "execute_result",
          "data": {
            "text/plain": [
              "Text(0, 0.5, 'RMSE')"
            ]
          },
          "metadata": {},
          "execution_count": 13
        },
        {
          "output_type": "display_data",
          "data": {
            "text/plain": [
              "<Figure size 648x432 with 1 Axes>"
            ],
            "image/png": "[encoded data removed]"
          },
          "metadata": {
            "needs_background": "light"
          }
        }
      ]
    },
    {
      "cell_type": "markdown",
      "source": [
        "**Membandingkan Accuracy dengan K values dengan elbow method**"
      ],
      "metadata": {
        "id": "TqoVVUGRkbpH"
      }
    },
    {
      "cell_type": "code",
      "source": [
        "euclidean_acc = []\n",
        "max_acc = 0\n",
        "\n",
        "for k in range(1,50):\n",
        "    y_pred = predict(X_train, X_test, y_train, k)\n",
        "    euclidean_acc.append(calculate_accuracy(y_test, y_pred))\n",
        "    if max_acc <= calculate_accuracy(y_test, y_pred):\n",
        "        max_acc = calculate_accuracy(y_test, y_pred)\n",
        "\n",
        "fig, ax = plt.subplots(figsize=(9,6))\n",
        "ax.plot(range(1,50), euclidean_acc)\n",
        "plt.title('Accuracy vs Nearest Neighbors (k)')\n",
        "ax.set_xlabel('Nearest Neighbors (k)')\n",
        "ax.set_ylabel('Accuracy')"
      ],
      "metadata": {
        "colab": {
          "base_uri": "https://localhost:8080/",
          "height": 421
        },
        "id": "iZV64pLaYyiy",
        "outputId": "233fa438-d4d1-4817-a35e-3467efede3ec"
      },
      "execution_count": null,
      "outputs": [
        {
          "output_type": "execute_result",
          "data": {
            "text/plain": [
              "Text(0, 0.5, 'Accuracy')"
            ]
          },
          "metadata": {},
          "execution_count": 14
        },
        {
          "output_type": "display_data",
          "data": {
            "text/plain": [
              "<Figure size 648x432 with 1 Axes>"
            ],
            "image/png": "[encoded data removed]"
          },
          "metadata": {
            "needs_background": "light"
          }
        }
      ]
    },
    {
      "cell_type": "code",
      "source": [
        "all_k_m = []\n",
        "index = 0\n",
        "for i in euclidean_acc:\n",
        "    index = index+1\n",
        "    if i == max_acc :\n",
        "        all_k_m.append(index)\n",
        "\n",
        "print('Akurasi terbesar terdapat pada k : ' + str(all_k_m) + ' dengan akurasi ' + str(max_acc) + ' %')"
      ],
      "metadata": {
        "colab": {
          "base_uri": "https://localhost:8080/"
        },
        "id": "kVboQMmQZr9-",
        "outputId": "49ac9b21-d9ba-4a74-b721-d611fdd53911"
      },
      "execution_count": null,
      "outputs": [
        {
          "output_type": "stream",
          "name": "stdout",
          "text": [
            "Akurasi terbesar terdapat pada k : [18, 19, 21, 22] dengan akurasi 83.33333333333334 %\n"
          ]
        }
      ]
    },
    {
      "cell_type": "markdown",
      "source": [
        "Didapatkan akurasi tertinggi sebesar 83.334% dengan k = 18, 19, 21, 22"
      ],
      "metadata": {
        "id": "lEKtweaBlVLS"
      }
    },
    {
      "cell_type": "markdown",
      "source": [
        "#Model Evaluation"
      ],
      "metadata": {
        "id": "P1_907NWlkUz"
      }
    },
    {
      "cell_type": "markdown",
      "source": [
        "**Menggunakan salah satu k dengan akurasi terbaik**"
      ],
      "metadata": {
        "id": "F7Fb7IANlm6R"
      }
    },
    {
      "cell_type": "code",
      "source": [
        "y_pred = predict(X_train, X_test, y_train, 18)"
      ],
      "metadata": {
        "id": "wvQ5vHFXdh-5"
      },
      "execution_count": null,
      "outputs": []
    },
    {
      "cell_type": "markdown",
      "source": [
        "**Mencari True Positive, True Negative, False Positive, False Negative**"
      ],
      "metadata": {
        "id": "b10umHzZlq0e"
      }
    },
    {
      "cell_type": "code",
      "source": [
        "TrueP = 0\n",
        "TrueN = 0\n",
        "FalseP = 0\n",
        "FalseN = 0\n",
        "\n",
        "for x in range(len(y_test)):\n",
        "    if y_test[x] == 1 and y_pred[x] == 1:\n",
        "        TrueP+= 1\n",
        "    if y_test[x] == 0 and y_pred[x] == 0:\n",
        "        TrueN+= 1\n",
        "    if y_test[x] == 0 and y_pred[x] == 1:\n",
        "        FalseP+= 1\n",
        "    if y_test[x] == 1 and y_pred[x] == 0:\n",
        "        FalseN+= 1"
      ],
      "metadata": {
        "id": "JJymtASwcdhZ"
      },
      "execution_count": null,
      "outputs": []
    },
    {
      "cell_type": "code",
      "source": [
        "TrueP, TrueN, FalseP, FalseN"
      ],
      "metadata": {
        "colab": {
          "base_uri": "https://localhost:8080/"
        },
        "id": "YxgWG5gjbxPQ",
        "outputId": "7c41500f-5d0a-4b28-d7ab-7e04b5af61b6"
      },
      "execution_count": null,
      "outputs": [
        {
          "output_type": "execute_result",
          "data": {
            "text/plain": [
              "(25, 75, 6, 14)"
            ]
          },
          "metadata": {},
          "execution_count": 18
        }
      ]
    },
    {
      "cell_type": "markdown",
      "source": [
        "**Evaluasi model dengan mencari akurasi, presisi, dan recall**"
      ],
      "metadata": {
        "id": "wc9LocvnlyKN"
      }
    },
    {
      "cell_type": "code",
      "source": [
        "Accuracy = calculate_accuracy(y_test, y_pred)\n",
        "Precision = TrueP / (TrueP + FalseP)\n",
        "Recall = TrueP / (TrueP + FalseN)\n",
        "print(f'Accuracy : {Accuracy} % ')\n",
        "print(f'Precision : {Precision}')\n",
        "print(f'Recall : {Recall}')"
      ],
      "metadata": {
        "colab": {
          "base_uri": "https://localhost:8080/"
        },
        "id": "d3IxSuS_bqZK",
        "outputId": "e6f3139d-8f9f-4b25-c3d0-5e4ad5f15330"
      },
      "execution_count": null,
      "outputs": [
        {
          "output_type": "stream",
          "name": "stdout",
          "text": [
            "Accuracy : 83.33333333333334 % \n",
            "Precision : 0.8064516129032258\n",
            "Recall : 0.6410256410256411\n"
          ]
        }
      ]
    },
    {
      "cell_type": "markdown",
      "source": [
        "Dari data diatas, didapat accuracy, precision, dan recall. Dimana akurasinya cukup bagus sebesar 83.34%"
      ],
      "metadata": {
        "id": "zPIzfwwEl3C4"
      }
    },
    {
      "cell_type": "markdown",
      "source": [
        "#Confusion Matrix"
      ],
      "metadata": {
        "id": "3jiJSnbbmGBW"
      }
    },
    {
      "cell_type": "code",
      "source": [
        "confMatrix = np.array([[TrueP,TrueN],[FalseP,FalseN]])\n",
        "\n",
        "labels = ['Positive', 'Negative']\n",
        "labels2 = ['True', 'False']\n",
        "plt.figure(figsize = (10,7))\n",
        "ax= plt.subplot()\n",
        "sns.heatmap(confMatrix, annot=True)\n",
        "ax.set_xticklabels(labels)\n",
        "ax.set_yticklabels(labels2)\n",
        "plt.title('Confusion Matrix')\n",
        "plt.show()"
      ],
      "metadata": {
        "colab": {
          "base_uri": "https://localhost:8080/",
          "height": 444
        },
        "id": "Vfzje94Kfy0p",
        "outputId": "79cc53a0-4859-4cb3-ee68-d35e6448de3e"
      },
      "execution_count": null,
      "outputs": [
        {
          "output_type": "display_data",
          "data": {
            "text/plain": [
              "<Figure size 720x504 with 2 Axes>"
            ],
            "image/png": "[encoded data removed]"
          },
          "metadata": {
            "needs_background": "light"
          }
        }
      ]
    }
  ]
}